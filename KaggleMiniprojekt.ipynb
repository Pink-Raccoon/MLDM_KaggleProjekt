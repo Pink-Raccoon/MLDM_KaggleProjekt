{
  "nbformat": 4,
  "nbformat_minor": 0,
  "metadata": {
    "colab": {
      "provenance": [],
      "authorship_tag": "ABX9TyMEImJyf323/7BSlxARPcy+",
      "include_colab_link": true
    },
    "kernelspec": {
      "name": "python3",
      "display_name": "Python 3"
    },
    "language_info": {
      "name": "python"
    }
  },
  "cells": [
    {
      "cell_type": "markdown",
      "metadata": {
        "id": "view-in-github",
        "colab_type": "text"
      },
      "source": [
        "<a href=\"https://colab.research.google.com/github/Pink-Raccoon/MLDM_KaggleProjekt/blob/master/KaggleMiniprojekt.ipynb\" target=\"_parent\"><img src=\"https://colab.research.google.com/assets/colab-badge.svg\" alt=\"Open In Colab\"/></a>"
      ]
    },
    {
      "cell_type": "markdown",
      "source": [
        "Goal is to predict category of an incident (from temporal and gegraphical information) Type: Classification"
      ],
      "metadata": {
        "id": "avkhpd8ByYzY"
      }
    },
    {
      "cell_type": "code",
      "execution_count": 35,
      "metadata": {
        "colab": {
          "base_uri": "https://localhost:8080/"
        },
        "id": "kQ2uzRhPwBub",
        "outputId": "1de433b0-bc5f-448c-a60d-62fb1b195beb"
      },
      "outputs": [
        {
          "output_type": "stream",
          "name": "stdout",
          "text": [
            "fatal: destination path 'MLDM_KaggleProjekt' already exists and is not an empty directory.\n"
          ]
        }
      ],
      "source": [
        "!git clone https://github.com/Pink-Raccoon/MLDM_KaggleProjekt.git"
      ]
    },
    {
      "cell_type": "code",
      "source": [
        "import pandas as pd\n",
        "import numpy as np\n",
        "import matplotlib.pyplot as plt"
      ],
      "metadata": {
        "id": "y2avo03BwPiN"
      },
      "execution_count": 36,
      "outputs": []
    },
    {
      "cell_type": "markdown",
      "source": [
        "#Loading data from file"
      ],
      "metadata": {
        "id": "DrUeotLVxEKC"
      }
    },
    {
      "cell_type": "code",
      "source": [
        "train_data = pd.read_csv(\"/content/MLDM_KaggleProjekt/sf-crime/train.csv.zip\")\n",
        "train_data.columns\n",
        "train_data"
      ],
      "metadata": {
        "colab": {
          "base_uri": "https://localhost:8080/",
          "height": 424
        },
        "id": "3xYC-KXWwp0R",
        "outputId": "c07b478d-921d-4fc7-b1fd-0c2427dacec0"
      },
      "execution_count": 37,
      "outputs": [
        {
          "output_type": "execute_result",
          "data": {
            "text/plain": [
              "                      Dates                Category  \\\n",
              "0       2015-05-13 23:53:00                WARRANTS   \n",
              "1       2015-05-13 23:53:00          OTHER OFFENSES   \n",
              "2       2015-05-13 23:33:00          OTHER OFFENSES   \n",
              "3       2015-05-13 23:30:00           LARCENY/THEFT   \n",
              "4       2015-05-13 23:30:00           LARCENY/THEFT   \n",
              "...                     ...                     ...   \n",
              "878044  2003-01-06 00:15:00                 ROBBERY   \n",
              "878045  2003-01-06 00:01:00           LARCENY/THEFT   \n",
              "878046  2003-01-06 00:01:00           LARCENY/THEFT   \n",
              "878047  2003-01-06 00:01:00               VANDALISM   \n",
              "878048  2003-01-06 00:01:00  FORGERY/COUNTERFEITING   \n",
              "\n",
              "                                         Descript  DayOfWeek PdDistrict  \\\n",
              "0                                  WARRANT ARREST  Wednesday   NORTHERN   \n",
              "1                        TRAFFIC VIOLATION ARREST  Wednesday   NORTHERN   \n",
              "2                        TRAFFIC VIOLATION ARREST  Wednesday   NORTHERN   \n",
              "3                    GRAND THEFT FROM LOCKED AUTO  Wednesday   NORTHERN   \n",
              "4                    GRAND THEFT FROM LOCKED AUTO  Wednesday       PARK   \n",
              "...                                           ...        ...        ...   \n",
              "878044           ROBBERY ON THE STREET WITH A GUN     Monday    TARAVAL   \n",
              "878045               GRAND THEFT FROM LOCKED AUTO     Monday  INGLESIDE   \n",
              "878046               GRAND THEFT FROM LOCKED AUTO     Monday   SOUTHERN   \n",
              "878047  MALICIOUS MISCHIEF, VANDALISM OF VEHICLES     Monday   SOUTHERN   \n",
              "878048                   CHECKS, FORGERY (FELONY)     Monday    BAYVIEW   \n",
              "\n",
              "            Resolution                     Address           X          Y  \n",
              "0       ARREST, BOOKED          OAK ST / LAGUNA ST -122.425892  37.774599  \n",
              "1       ARREST, BOOKED          OAK ST / LAGUNA ST -122.425892  37.774599  \n",
              "2       ARREST, BOOKED   VANNESS AV / GREENWICH ST -122.424363  37.800414  \n",
              "3                 NONE    1500 Block of LOMBARD ST -122.426995  37.800873  \n",
              "4                 NONE   100 Block of BRODERICK ST -122.438738  37.771541  \n",
              "...                ...                         ...         ...        ...  \n",
              "878044            NONE  FARALLONES ST / CAPITOL AV -122.459033  37.714056  \n",
              "878045            NONE        600 Block of EDNA ST -122.447364  37.731948  \n",
              "878046            NONE          5TH ST / FOLSOM ST -122.403390  37.780266  \n",
              "878047            NONE        TOWNSEND ST / 2ND ST -122.390531  37.780607  \n",
              "878048            NONE    1800 Block of NEWCOMB AV -122.394926  37.738212  \n",
              "\n",
              "[878049 rows x 9 columns]"
            ],
            "text/html": [
              "\n",
              "  <div id=\"df-aacd5afe-389f-4cc2-bdc2-983a6bc6e267\">\n",
              "    <div class=\"colab-df-container\">\n",
              "      <div>\n",
              "<style scoped>\n",
              "    .dataframe tbody tr th:only-of-type {\n",
              "        vertical-align: middle;\n",
              "    }\n",
              "\n",
              "    .dataframe tbody tr th {\n",
              "        vertical-align: top;\n",
              "    }\n",
              "\n",
              "    .dataframe thead th {\n",
              "        text-align: right;\n",
              "    }\n",
              "</style>\n",
              "<table border=\"1\" class=\"dataframe\">\n",
              "  <thead>\n",
              "    <tr style=\"text-align: right;\">\n",
              "      <th></th>\n",
              "      <th>Dates</th>\n",
              "      <th>Category</th>\n",
              "      <th>Descript</th>\n",
              "      <th>DayOfWeek</th>\n",
              "      <th>PdDistrict</th>\n",
              "      <th>Resolution</th>\n",
              "      <th>Address</th>\n",
              "      <th>X</th>\n",
              "      <th>Y</th>\n",
              "    </tr>\n",
              "  </thead>\n",
              "  <tbody>\n",
              "    <tr>\n",
              "      <th>0</th>\n",
              "      <td>2015-05-13 23:53:00</td>\n",
              "      <td>WARRANTS</td>\n",
              "      <td>WARRANT ARREST</td>\n",
              "      <td>Wednesday</td>\n",
              "      <td>NORTHERN</td>\n",
              "      <td>ARREST, BOOKED</td>\n",
              "      <td>OAK ST / LAGUNA ST</td>\n",
              "      <td>-122.425892</td>\n",
              "      <td>37.774599</td>\n",
              "    </tr>\n",
              "    <tr>\n",
              "      <th>1</th>\n",
              "      <td>2015-05-13 23:53:00</td>\n",
              "      <td>OTHER OFFENSES</td>\n",
              "      <td>TRAFFIC VIOLATION ARREST</td>\n",
              "      <td>Wednesday</td>\n",
              "      <td>NORTHERN</td>\n",
              "      <td>ARREST, BOOKED</td>\n",
              "      <td>OAK ST / LAGUNA ST</td>\n",
              "      <td>-122.425892</td>\n",
              "      <td>37.774599</td>\n",
              "    </tr>\n",
              "    <tr>\n",
              "      <th>2</th>\n",
              "      <td>2015-05-13 23:33:00</td>\n",
              "      <td>OTHER OFFENSES</td>\n",
              "      <td>TRAFFIC VIOLATION ARREST</td>\n",
              "      <td>Wednesday</td>\n",
              "      <td>NORTHERN</td>\n",
              "      <td>ARREST, BOOKED</td>\n",
              "      <td>VANNESS AV / GREENWICH ST</td>\n",
              "      <td>-122.424363</td>\n",
              "      <td>37.800414</td>\n",
              "    </tr>\n",
              "    <tr>\n",
              "      <th>3</th>\n",
              "      <td>2015-05-13 23:30:00</td>\n",
              "      <td>LARCENY/THEFT</td>\n",
              "      <td>GRAND THEFT FROM LOCKED AUTO</td>\n",
              "      <td>Wednesday</td>\n",
              "      <td>NORTHERN</td>\n",
              "      <td>NONE</td>\n",
              "      <td>1500 Block of LOMBARD ST</td>\n",
              "      <td>-122.426995</td>\n",
              "      <td>37.800873</td>\n",
              "    </tr>\n",
              "    <tr>\n",
              "      <th>4</th>\n",
              "      <td>2015-05-13 23:30:00</td>\n",
              "      <td>LARCENY/THEFT</td>\n",
              "      <td>GRAND THEFT FROM LOCKED AUTO</td>\n",
              "      <td>Wednesday</td>\n",
              "      <td>PARK</td>\n",
              "      <td>NONE</td>\n",
              "      <td>100 Block of BRODERICK ST</td>\n",
              "      <td>-122.438738</td>\n",
              "      <td>37.771541</td>\n",
              "    </tr>\n",
              "    <tr>\n",
              "      <th>...</th>\n",
              "      <td>...</td>\n",
              "      <td>...</td>\n",
              "      <td>...</td>\n",
              "      <td>...</td>\n",
              "      <td>...</td>\n",
              "      <td>...</td>\n",
              "      <td>...</td>\n",
              "      <td>...</td>\n",
              "      <td>...</td>\n",
              "    </tr>\n",
              "    <tr>\n",
              "      <th>878044</th>\n",
              "      <td>2003-01-06 00:15:00</td>\n",
              "      <td>ROBBERY</td>\n",
              "      <td>ROBBERY ON THE STREET WITH A GUN</td>\n",
              "      <td>Monday</td>\n",
              "      <td>TARAVAL</td>\n",
              "      <td>NONE</td>\n",
              "      <td>FARALLONES ST / CAPITOL AV</td>\n",
              "      <td>-122.459033</td>\n",
              "      <td>37.714056</td>\n",
              "    </tr>\n",
              "    <tr>\n",
              "      <th>878045</th>\n",
              "      <td>2003-01-06 00:01:00</td>\n",
              "      <td>LARCENY/THEFT</td>\n",
              "      <td>GRAND THEFT FROM LOCKED AUTO</td>\n",
              "      <td>Monday</td>\n",
              "      <td>INGLESIDE</td>\n",
              "      <td>NONE</td>\n",
              "      <td>600 Block of EDNA ST</td>\n",
              "      <td>-122.447364</td>\n",
              "      <td>37.731948</td>\n",
              "    </tr>\n",
              "    <tr>\n",
              "      <th>878046</th>\n",
              "      <td>2003-01-06 00:01:00</td>\n",
              "      <td>LARCENY/THEFT</td>\n",
              "      <td>GRAND THEFT FROM LOCKED AUTO</td>\n",
              "      <td>Monday</td>\n",
              "      <td>SOUTHERN</td>\n",
              "      <td>NONE</td>\n",
              "      <td>5TH ST / FOLSOM ST</td>\n",
              "      <td>-122.403390</td>\n",
              "      <td>37.780266</td>\n",
              "    </tr>\n",
              "    <tr>\n",
              "      <th>878047</th>\n",
              "      <td>2003-01-06 00:01:00</td>\n",
              "      <td>VANDALISM</td>\n",
              "      <td>MALICIOUS MISCHIEF, VANDALISM OF VEHICLES</td>\n",
              "      <td>Monday</td>\n",
              "      <td>SOUTHERN</td>\n",
              "      <td>NONE</td>\n",
              "      <td>TOWNSEND ST / 2ND ST</td>\n",
              "      <td>-122.390531</td>\n",
              "      <td>37.780607</td>\n",
              "    </tr>\n",
              "    <tr>\n",
              "      <th>878048</th>\n",
              "      <td>2003-01-06 00:01:00</td>\n",
              "      <td>FORGERY/COUNTERFEITING</td>\n",
              "      <td>CHECKS, FORGERY (FELONY)</td>\n",
              "      <td>Monday</td>\n",
              "      <td>BAYVIEW</td>\n",
              "      <td>NONE</td>\n",
              "      <td>1800 Block of NEWCOMB AV</td>\n",
              "      <td>-122.394926</td>\n",
              "      <td>37.738212</td>\n",
              "    </tr>\n",
              "  </tbody>\n",
              "</table>\n",
              "<p>878049 rows × 9 columns</p>\n",
              "</div>\n",
              "      <button class=\"colab-df-convert\" onclick=\"convertToInteractive('df-aacd5afe-389f-4cc2-bdc2-983a6bc6e267')\"\n",
              "              title=\"Convert this dataframe to an interactive table.\"\n",
              "              style=\"display:none;\">\n",
              "        \n",
              "  <svg xmlns=\"http://www.w3.org/2000/svg\" height=\"24px\"viewBox=\"0 0 24 24\"\n",
              "       width=\"24px\">\n",
              "    <path d=\"M0 0h24v24H0V0z\" fill=\"none\"/>\n",
              "    <path d=\"M18.56 5.44l.94 2.06.94-2.06 2.06-.94-2.06-.94-.94-2.06-.94 2.06-2.06.94zm-11 1L8.5 8.5l.94-2.06 2.06-.94-2.06-.94L8.5 2.5l-.94 2.06-2.06.94zm10 10l.94 2.06.94-2.06 2.06-.94-2.06-.94-.94-2.06-.94 2.06-2.06.94z\"/><path d=\"M17.41 7.96l-1.37-1.37c-.4-.4-.92-.59-1.43-.59-.52 0-1.04.2-1.43.59L10.3 9.45l-7.72 7.72c-.78.78-.78 2.05 0 2.83L4 21.41c.39.39.9.59 1.41.59.51 0 1.02-.2 1.41-.59l7.78-7.78 2.81-2.81c.8-.78.8-2.07 0-2.86zM5.41 20L4 18.59l7.72-7.72 1.47 1.35L5.41 20z\"/>\n",
              "  </svg>\n",
              "      </button>\n",
              "      \n",
              "  <style>\n",
              "    .colab-df-container {\n",
              "      display:flex;\n",
              "      flex-wrap:wrap;\n",
              "      gap: 12px;\n",
              "    }\n",
              "\n",
              "    .colab-df-convert {\n",
              "      background-color: #E8F0FE;\n",
              "      border: none;\n",
              "      border-radius: 50%;\n",
              "      cursor: pointer;\n",
              "      display: none;\n",
              "      fill: #1967D2;\n",
              "      height: 32px;\n",
              "      padding: 0 0 0 0;\n",
              "      width: 32px;\n",
              "    }\n",
              "\n",
              "    .colab-df-convert:hover {\n",
              "      background-color: #E2EBFA;\n",
              "      box-shadow: 0px 1px 2px rgba(60, 64, 67, 0.3), 0px 1px 3px 1px rgba(60, 64, 67, 0.15);\n",
              "      fill: #174EA6;\n",
              "    }\n",
              "\n",
              "    [theme=dark] .colab-df-convert {\n",
              "      background-color: #3B4455;\n",
              "      fill: #D2E3FC;\n",
              "    }\n",
              "\n",
              "    [theme=dark] .colab-df-convert:hover {\n",
              "      background-color: #434B5C;\n",
              "      box-shadow: 0px 1px 3px 1px rgba(0, 0, 0, 0.15);\n",
              "      filter: drop-shadow(0px 1px 2px rgba(0, 0, 0, 0.3));\n",
              "      fill: #FFFFFF;\n",
              "    }\n",
              "  </style>\n",
              "\n",
              "      <script>\n",
              "        const buttonEl =\n",
              "          document.querySelector('#df-aacd5afe-389f-4cc2-bdc2-983a6bc6e267 button.colab-df-convert');\n",
              "        buttonEl.style.display =\n",
              "          google.colab.kernel.accessAllowed ? 'block' : 'none';\n",
              "\n",
              "        async function convertToInteractive(key) {\n",
              "          const element = document.querySelector('#df-aacd5afe-389f-4cc2-bdc2-983a6bc6e267');\n",
              "          const dataTable =\n",
              "            await google.colab.kernel.invokeFunction('convertToInteractive',\n",
              "                                                     [key], {});\n",
              "          if (!dataTable) return;\n",
              "\n",
              "          const docLinkHtml = 'Like what you see? Visit the ' +\n",
              "            '<a target=\"_blank\" href=https://colab.research.google.com/notebooks/data_table.ipynb>data table notebook</a>'\n",
              "            + ' to learn more about interactive tables.';\n",
              "          element.innerHTML = '';\n",
              "          dataTable['output_type'] = 'display_data';\n",
              "          await google.colab.output.renderOutput(dataTable, element);\n",
              "          const docLink = document.createElement('div');\n",
              "          docLink.innerHTML = docLinkHtml;\n",
              "          element.appendChild(docLink);\n",
              "        }\n",
              "      </script>\n",
              "    </div>\n",
              "  </div>\n",
              "  "
            ]
          },
          "metadata": {},
          "execution_count": 37
        }
      ]
    },
    {
      "cell_type": "code",
      "source": [
        "test_data = pd.read_csv(\"/content/MLDM_KaggleProjekt/sf-crime/test.csv.zip\")\n",
        "test_data.columns"
      ],
      "metadata": {
        "colab": {
          "base_uri": "https://localhost:8080/"
        },
        "id": "G6dOfYFF3SnN",
        "outputId": "06c83914-97af-476c-eb27-71755898190c"
      },
      "execution_count": 45,
      "outputs": [
        {
          "output_type": "execute_result",
          "data": {
            "text/plain": [
              "Index(['Id', 'Dates', 'DayOfWeek', 'PdDistrict', 'Address', 'X', 'Y'], dtype='object')"
            ]
          },
          "metadata": {},
          "execution_count": 45
        }
      ]
    },
    {
      "cell_type": "markdown",
      "source": [
        "# Data-Processing"
      ],
      "metadata": {
        "id": "bzccqvNAxrWh"
      }
    },
    {
      "cell_type": "code",
      "source": [
        "#Descript, Resoultion and address are not needed for analysis so they will be dropped\n",
        "train_data = train_data.drop(columns=['Descript','Resolution', 'Address'])\n",
        "train_data.dropna(inplace=True)\n"
      ],
      "metadata": {
        "id": "qdlDEjj_xvf8"
      },
      "execution_count": 39,
      "outputs": []
    },
    {
      "cell_type": "code",
      "source": [
        "test_data = test_data.drop(columns=['Address'])\n",
        "test_data.dropna(inplace=True)"
      ],
      "metadata": {
        "id": "pZxr6ksi37Kl"
      },
      "execution_count": 43,
      "outputs": []
    },
    {
      "cell_type": "code",
      "source": [
        "train_data.dtypes"
      ],
      "metadata": {
        "colab": {
          "base_uri": "https://localhost:8080/"
        },
        "id": "l6noru4I1YtA",
        "outputId": "ea6d7783-9793-4a27-d9ba-9f19fc011764"
      },
      "execution_count": 40,
      "outputs": [
        {
          "output_type": "execute_result",
          "data": {
            "text/plain": [
              "Dates          object\n",
              "Category       object\n",
              "DayOfWeek      object\n",
              "PdDistrict     object\n",
              "X             float64\n",
              "Y             float64\n",
              "dtype: object"
            ]
          },
          "metadata": {},
          "execution_count": 40
        }
      ]
    },
    {
      "cell_type": "code",
      "source": [
        "#Change datatype of time \n",
        "date = pd.to_datetime(train_data[\"Dates\"])\n",
        "train_data[\"Year\"] = date.dt.year\n",
        "train_data[\"Month\"] = date.dt.month\n",
        "train_data[\"Day\"] = date.dt.day\n",
        "train_data[\"Hour\"] = date.dt.day\n",
        "train_data[\"Minute\"] = date.dt.minute\n",
        "train_data = train_data.drop(columns=['Dates'])\n",
        "train_data.dropna(inplace=True)"
      ],
      "metadata": {
        "id": "S3czA9Ne1qx5"
      },
      "execution_count": 41,
      "outputs": []
    },
    {
      "cell_type": "code",
      "source": [
        "date = pd.to_datetime(test_data['Dates'])\n",
        "test_data[\"Year\"] = date.dt.year\n",
        "test_data[\"Month\"] = date.dt.month\n",
        "test_data[\"Day\"] = date.dt.day\n",
        "test_data[\"Hour\"] = date.dt.day\n",
        "test_data[\"Minute\"] = date.dt.minute\n",
        "test_data = test_data.drop(columns=['Dates'])\n",
        "test_data.dropna(inplace=True)\n"
      ],
      "metadata": {
        "id": "lXxC4LjN4A_x"
      },
      "execution_count": 50,
      "outputs": []
    },
    {
      "cell_type": "code",
      "source": [
        "df = pd.DataFrame(train_data,columns=['Category'])\n",
        "category_arr=np.unique(df.to_numpy())\n",
        "print(category_arr)\n",
        "print(category_arr.shape)\n",
        "#Give each Category a number\n",
        "category_num = []\n"
      ],
      "metadata": {
        "colab": {
          "base_uri": "https://localhost:8080/"
        },
        "id": "MBL08ZdH6FWp",
        "outputId": "dfb0df9e-54a2-4fc3-9523-0b12f133821b"
      },
      "execution_count": 60,
      "outputs": [
        {
          "output_type": "stream",
          "name": "stdout",
          "text": [
            "['ARSON' 'ASSAULT' 'BAD CHECKS' 'BRIBERY' 'BURGLARY' 'DISORDERLY CONDUCT'\n",
            " 'DRIVING UNDER THE INFLUENCE' 'DRUG/NARCOTIC' 'DRUNKENNESS'\n",
            " 'EMBEZZLEMENT' 'EXTORTION' 'FAMILY OFFENSES' 'FORGERY/COUNTERFEITING'\n",
            " 'FRAUD' 'GAMBLING' 'KIDNAPPING' 'LARCENY/THEFT' 'LIQUOR LAWS' 'LOITERING'\n",
            " 'MISSING PERSON' 'NON-CRIMINAL' 'OTHER OFFENSES'\n",
            " 'PORNOGRAPHY/OBSCENE MAT' 'PROSTITUTION' 'RECOVERED VEHICLE' 'ROBBERY'\n",
            " 'RUNAWAY' 'SECONDARY CODES' 'SEX OFFENSES FORCIBLE'\n",
            " 'SEX OFFENSES NON FORCIBLE' 'STOLEN PROPERTY' 'SUICIDE' 'SUSPICIOUS OCC'\n",
            " 'TREA' 'TRESPASS' 'VANDALISM' 'VEHICLE THEFT' 'WARRANTS' 'WEAPON LAWS']\n",
            "(39,)\n"
          ]
        }
      ]
    }
  ]
}