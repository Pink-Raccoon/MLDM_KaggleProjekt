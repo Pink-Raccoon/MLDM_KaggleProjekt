{
  "nbformat": 4,
  "nbformat_minor": 0,
  "metadata": {
    "colab": {
      "provenance": [],
      "collapsed_sections": [
        "nqqPxCF8sUK2",
        "DrUeotLVxEKC",
        "bzccqvNAxrWh",
        "VUUs6AMzcGY9",
        "S0NZBTjHSKts",
        "XNPMwbYiZtyB"
      ],
      "private_outputs": true
    },
    "kernelspec": {
      "name": "python3",
      "display_name": "Python 3"
    },
    "language_info": {
      "name": "python"
    },
    "gpuClass": "standard"
  },
  "cells": [
    {
      "cell_type": "markdown",
      "source": [
        "Goal is to predict category of an incident (from temporal and gegraphical information) Type: Classification"
      ],
      "metadata": {
        "id": "avkhpd8ByYzY"
      }
    },
    {
      "cell_type": "markdown",
      "source": [
        "# Imports"
      ],
      "metadata": {
        "id": "nqqPxCF8sUK2"
      }
    },
    {
      "cell_type": "code",
      "execution_count": null,
      "metadata": {
        "id": "kQ2uzRhPwBub"
      },
      "outputs": [],
      "source": [
        "!git clone https://github.com/Pink-Raccoon/MLDM_KaggleProjekt.git"
      ]
    },
    {
      "cell_type": "code",
      "source": [
        "#!pip install geopandas\n",
        "#!pip install osmnx # https://pygis.io/docs/d_access_osm.html\n",
        "#!pip install arcgis # https://developers.arcgis.com/python/guide/part5-reverse-geocoding/#the-simple-reverse-geocode-examples"
      ],
      "metadata": {
        "id": "mo5HsqIaAJFa"
      },
      "execution_count": null,
      "outputs": []
    },
    {
      "cell_type": "code",
      "source": [
        "import pandas as pd\n",
        "import numpy as np\n",
        "import matplotlib.pyplot as plt\n",
        "import matplotlib.cm as cm\n",
        "import folium as fo\n",
        "import seaborn as sns\n",
        "# import osmnx\n",
        "# import osmnx as ox\n",
        "# import geopandas as gpd"
      ],
      "metadata": {
        "id": "y2avo03BwPiN"
      },
      "execution_count": null,
      "outputs": []
    },
    {
      "cell_type": "markdown",
      "source": [
        "#Loading data from file"
      ],
      "metadata": {
        "id": "DrUeotLVxEKC"
      }
    },
    {
      "cell_type": "code",
      "source": [
        "train_data = pd.read_csv(\"/content/MLDM_KaggleProjekt/sf-crime/train.csv.zip\")\n",
        "train_data.columns\n",
        "\n",
        "RANDOM_SEED = 0xdeadbeef\n",
        "train_data.shape\n",
        "train_data.head(3)"
      ],
      "metadata": {
        "id": "3xYC-KXWwp0R"
      },
      "execution_count": null,
      "outputs": []
    },
    {
      "cell_type": "code",
      "source": [
        "test_data = pd.read_csv(\"/content/MLDM_KaggleProjekt/sf-crime/test.csv.zip\")\n",
        "test_data.head(3)"
      ],
      "metadata": {
        "id": "G6dOfYFF3SnN"
      },
      "execution_count": null,
      "outputs": []
    },
    {
      "cell_type": "markdown",
      "source": [
        "# Data-Processing"
      ],
      "metadata": {
        "id": "bzccqvNAxrWh"
      }
    },
    {
      "cell_type": "code",
      "source": [
        "#Descript, Resoultion and address are not needed for analysis so they will be dropped\n",
        "train_data = train_data.drop(columns=['Descript','Resolution', 'Address'])\n",
        "train_data.dropna(inplace=True)\n"
      ],
      "metadata": {
        "id": "qdlDEjj_xvf8"
      },
      "execution_count": null,
      "outputs": []
    },
    {
      "cell_type": "code",
      "source": [
        "test_data = test_data.drop(columns=['Address'])\n",
        "test_data.dropna(inplace=True)"
      ],
      "metadata": {
        "id": "pZxr6ksi37Kl"
      },
      "execution_count": null,
      "outputs": []
    },
    {
      "cell_type": "code",
      "source": [
        "train_data.dtypes"
      ],
      "metadata": {
        "id": "l6noru4I1YtA"
      },
      "execution_count": null,
      "outputs": []
    },
    {
      "cell_type": "code",
      "source": [
        "#Change datatype of time \n",
        "date = pd.to_datetime(train_data[\"Dates\"])\n",
        "train_data = train_data.drop(columns=['DayOfWeek'])\n",
        "train_data = train_data.drop(columns=['Dates'])\n",
        "train_data[\"Year\"] = date.dt.year\n",
        "train_data[\"Month\"] = date.dt.month\n",
        "train_data[\"Day\"] = date.dt.day\n",
        "train_data[\"Hour\"] = date.dt.hour\n",
        "train_data[\"DayOfWeek\"] = date.dt.weekday #monday = 0, tuesday = 1, ...\n",
        "train_data.dropna(inplace=True)"
      ],
      "metadata": {
        "id": "S3czA9Ne1qx5"
      },
      "execution_count": null,
      "outputs": []
    },
    {
      "cell_type": "code",
      "source": [
        "date = pd.to_datetime(test_data['Dates'])\n",
        "test_data = test_data.drop(columns=['DayOfWeek'])\n",
        "test_data = test_data.drop(columns=['Dates'])\n",
        "test_data[\"Year\"] = date.dt.year\n",
        "test_data[\"Month\"] = date.dt.month\n",
        "test_data[\"Day\"] = date.dt.day\n",
        "test_data[\"Hour\"] = date.dt.hour\n",
        "test_data[\"DayOfWeek\"] = date.dt.weekday  #monday = 0, tuesday = 1, ...\n",
        "test_data.dropna(inplace=True)"
      ],
      "metadata": {
        "id": "lXxC4LjN4A_x"
      },
      "execution_count": null,
      "outputs": []
    },
    {
      "cell_type": "code",
      "source": [
        "train_data.shape"
      ],
      "metadata": {
        "id": "dQtsN-7oWrhc"
      },
      "execution_count": null,
      "outputs": []
    },
    {
      "cell_type": "code",
      "source": [
        "#plt.scatter(train_data.X, train_data.Y)\n",
        "#coordinate = np.stack((train_data.X, train_data.Y), axis=1)\n",
        "#plt.scatter(coordinate[:, 0], coordinate[:, 1])\n"
      ],
      "metadata": {
        "id": "1RdGgSijCYxQ"
      },
      "execution_count": null,
      "outputs": []
    },
    {
      "cell_type": "code",
      "source": [
        "outliers_train = train_data[train_data[\"Y\"] > 40.] "
      ],
      "metadata": {
        "id": "aEmllzaqbIqz"
      },
      "execution_count": null,
      "outputs": []
    },
    {
      "cell_type": "code",
      "source": [
        "#outliers_train.sort_values(by='Category')"
      ],
      "metadata": {
        "id": "bZHW0b9TsGck"
      },
      "execution_count": null,
      "outputs": []
    },
    {
      "cell_type": "code",
      "source": [
        "train_data = train_data[train_data[\"Y\"] < 40.] \n",
        "train_data.drop_duplicates()\n",
        "print(train_data.shape)"
      ],
      "metadata": {
        "id": "Gj6-6XstWZke"
      },
      "execution_count": null,
      "outputs": []
    },
    {
      "cell_type": "code",
      "source": [
        "#plt.scatter(test_data.X, test_data.Y)\n",
        "\n",
        "filtered_coordinate = test_data.Y > 40\n",
        "new_coord = test_data.Y[filtered_coordinate]\n",
        "print(new_coord.shape)\n",
        "\n",
        "print(test_data.shape)\n",
        "test_data = test_data[test_data[\"Y\"] < 40.] \n",
        "print(test_data.shape)\n"
      ],
      "metadata": {
        "id": "XW6mFwcYnyzT"
      },
      "execution_count": null,
      "outputs": []
    },
    {
      "cell_type": "code",
      "source": [
        "#plt.scatter(train_data.X, train_data.Y)"
      ],
      "metadata": {
        "id": "qOn4sbO2s4uu"
      },
      "execution_count": null,
      "outputs": []
    },
    {
      "cell_type": "code",
      "source": [
        "#plt.scatter(test_data.X, test_data.Y)"
      ],
      "metadata": {
        "id": "SkV8Eiojs26t"
      },
      "execution_count": null,
      "outputs": []
    },
    {
      "cell_type": "code",
      "source": [
        "#perform data binning on points variable\n",
        "bin_labels = [1, 2, 3, 4, 5, 6]\n",
        "df_train_bin = train_data\n",
        "df_train_bin['Hour_bin'] = pd.qcut(df_train_bin['Hour'], q=6, labels=bin_labels)\n",
        "\n",
        "#view updated DataFrame\n",
        "df_train_bin['Hour_bin'].value_counts()\n",
        "df_train_bin = df_train_bin.drop(columns=['Hour'])\n",
        "\n",
        "#(-0.001, 7.0]\tearly morning\n",
        "#(7.0, 11.0]\tmorning\n",
        "#(11.0, 14.0]\tnoon\n",
        "#(14.0, 17.0]\tafternoon\n",
        "#(17.0, 20.0]\tevening  \n",
        "#(20.0, 23.0]\tnight"
      ],
      "metadata": {
        "id": "-ArCmPEYwmlP"
      },
      "execution_count": null,
      "outputs": []
    },
    {
      "cell_type": "code",
      "source": [
        "#df_train_bin"
      ],
      "metadata": {
        "id": "XFVKRSgl7DjS"
      },
      "execution_count": null,
      "outputs": []
    },
    {
      "cell_type": "code",
      "source": [
        "df_test_bin = test_data\n",
        "df_test_bin['Hour_bin'] = pd.qcut(df_test_bin['Hour'], q=6)\n",
        "\n",
        "#view updated DataFrame\n",
        "df_test_bin = df_test_bin.drop(columns=['Hour'])\n",
        "df_test_bin['Hour_bin'].value_counts()"
      ],
      "metadata": {
        "id": "61BdYwE2Pi9Q"
      },
      "execution_count": null,
      "outputs": []
    },
    {
      "cell_type": "code",
      "source": [
        "#df_test_bin"
      ],
      "metadata": {
        "id": "y3IpBJEvPI9f"
      },
      "execution_count": null,
      "outputs": []
    },
    {
      "cell_type": "code",
      "source": [
        "#perform data binning on points variable\n",
        "bin_labels2 = np.arange(79)\n",
        "bin_labels3 = np.arange(78)\n",
        "\n",
        "#perform data binning on points variable\n",
        "\n",
        "df_train_bin['coordX'] = pd.qcut(df_train_bin['X'], q=80, labels=bin_labels2, duplicates='drop')\n",
        "df_train_bin['coordY'] = pd.qcut(df_train_bin['Y'], q=80, labels=bin_labels3, duplicates='drop')\n",
        "\n",
        "\n",
        "#view updated DataFrame\n",
        "df_train_bin['coordX'].value_counts()\n",
        "df_train_bin['coordY'].value_counts()\n"
      ],
      "metadata": {
        "id": "7eaSPE_eTgoC"
      },
      "execution_count": null,
      "outputs": []
    },
    {
      "cell_type": "code",
      "source": [
        "df_train_bin = df_train_bin.drop(columns=['X'])\n",
        "df_train_bin = df_train_bin.drop(columns=['Y'])"
      ],
      "metadata": {
        "id": "KgGUnVOq6MFf"
      },
      "execution_count": null,
      "outputs": []
    },
    {
      "cell_type": "code",
      "source": [
        "#perform data binning on points variable\n",
        "bin_labels2 = np.arange(79)\n",
        "bin_labels3 = np.arange(78)\n",
        "\n",
        "#perform data binning on points variable\n",
        "\n",
        "df_test_bin['coordX'] = pd.qcut(df_test_bin['X'], q=80, labels=bin_labels2, duplicates='drop')\n",
        "df_test_bin['coordY'] = pd.qcut(df_test_bin['Y'], q=80, labels=bin_labels3, duplicates='drop')\n",
        "\n",
        "\n",
        "#view updated DataFrame\n",
        "df_test_bin['coordX'].value_counts()\n",
        "df_test_bin = df_test_bin.drop(columns=['X'])\n",
        "df_test_bin['coordY'].value_counts()\n",
        "df_test_bin = df_test_bin.drop(columns=['Y'])"
      ],
      "metadata": {
        "id": "RV97M6ZOL_pY"
      },
      "execution_count": null,
      "outputs": []
    },
    {
      "cell_type": "markdown",
      "source": [
        "#Data splitten"
      ],
      "metadata": {
        "id": "VUUs6AMzcGY9"
      }
    },
    {
      "cell_type": "code",
      "source": [
        "from sklearn.model_selection import train_test_split\n",
        "from sklearn.linear_model import LinearRegression \n"
      ],
      "metadata": {
        "id": "LCjqaShycHdQ"
      },
      "execution_count": null,
      "outputs": []
    },
    {
      "cell_type": "code",
      "source": [
        "# Python3 program to Convert a\n",
        "# list to dictionary\n",
        "def addKey(i,res_dct,lst):\n",
        "  res_dct[lst[i]] = i\n",
        "  return res_dct\n",
        "def Convert(lst,res_dct):\n",
        "  for i in range(0, len(lst)):\n",
        "    res_dct=addKey(i,res_dct,lst)\n",
        "  return res_dct"
      ],
      "metadata": {
        "id": "TdqptlJmnEmz"
      },
      "execution_count": null,
      "outputs": []
    },
    {
      "cell_type": "code",
      "source": [
        "res_dct = {}\n",
        "df = pd.DataFrame(df_train_bin,columns=['Category'])\n",
        "cat_arr = np.unique(df.to_numpy())\n",
        "cat_dict = Convert(cat_arr,res_dct)\n",
        "print(cat_dict)\n",
        "print(df.to_numpy()[0])"
      ],
      "metadata": {
        "id": "fjN3D_Zgf9IT"
      },
      "execution_count": null,
      "outputs": []
    },
    {
      "cell_type": "code",
      "source": [
        "res2_dct = {}\n",
        "df2 = pd.DataFrame(df_train_bin,columns=['PdDistrict'])\n",
        "dist_arr = np.unique(df2.to_numpy())\n",
        "dist_dict = Convert(dist_arr,res2_dct)\n",
        "print(dist_dict)\n"
      ],
      "metadata": {
        "id": "nFlJR8xFLkg8"
      },
      "execution_count": null,
      "outputs": []
    },
    {
      "cell_type": "code",
      "source": [
        "target = df.Category.apply(lambda category: cat_dict[category])\n",
        "df_train_bin['Districts'] = df2.PdDistrict.apply(lambda PdDistrict: dist_dict[PdDistrict])"
      ],
      "metadata": {
        "id": "2tDNMhU4u6VE"
      },
      "execution_count": null,
      "outputs": []
    },
    {
      "cell_type": "code",
      "source": [
        "res2_dct = {}\n",
        "df2 = pd.DataFrame(df_test_bin,columns=['PdDistrict'])\n",
        "dist_arr = np.unique(df2.to_numpy())\n",
        "dist_dict = Convert(dist_arr,res2_dct)\n",
        "print(dist_dict)"
      ],
      "metadata": {
        "id": "2nMf32JLTz0c"
      },
      "execution_count": null,
      "outputs": []
    },
    {
      "cell_type": "code",
      "source": [
        "target = df.Category.apply(lambda category: cat_dict[category])\n",
        "df_test_bin['Districts'] = df2.PdDistrict.apply(lambda PdDistrict: dist_dict[PdDistrict])"
      ],
      "metadata": {
        "id": "h-wRK7jnT6Sv"
      },
      "execution_count": null,
      "outputs": []
    },
    {
      "cell_type": "code",
      "source": [
        "print(df_train_bin.shape)\n",
        "print(target.shape)"
      ],
      "metadata": {
        "id": "2X9Ro6T5RJpV"
      },
      "execution_count": null,
      "outputs": []
    },
    {
      "cell_type": "code",
      "source": [
        "df_train_bin.head(2)"
      ],
      "metadata": {
        "id": "IrjBY5vEUSJz"
      },
      "execution_count": null,
      "outputs": []
    },
    {
      "cell_type": "code",
      "source": [
        "target[:2]"
      ],
      "metadata": {
        "id": "oKB5VqXrS92q"
      },
      "execution_count": null,
      "outputs": []
    },
    {
      "cell_type": "code",
      "source": [
        "df_train_bin = df_train_bin.drop(columns=['Category'])\n",
        "df_train_bin.dropna(inplace=True)\n",
        "df_train_bin = df_train_bin.drop(columns=['PdDistrict'])\n",
        "df_train_bin.dropna(inplace=True)"
      ],
      "metadata": {
        "id": "KkyS3LvIHNsP"
      },
      "execution_count": null,
      "outputs": []
    },
    {
      "cell_type": "code",
      "source": [
        "X_train, X_valid, y_train, y_valid= train_test_split(df_train_bin,target,train_size=0.8, random_state=RANDOM_SEED)"
      ],
      "metadata": {
        "id": "Bq2wNQ2RemX-"
      },
      "execution_count": null,
      "outputs": []
    },
    {
      "cell_type": "code",
      "source": [
        "print(X_train.shape)\n",
        "print(X_valid.shape)"
      ],
      "metadata": {
        "id": "iLaOsxg9ROiC"
      },
      "execution_count": null,
      "outputs": []
    },
    {
      "cell_type": "code",
      "source": [
        "print(X_train.shape)\n",
        "print(y_train.shape)"
      ],
      "metadata": {
        "id": "hsjgsjJsQQbu"
      },
      "execution_count": null,
      "outputs": []
    },
    {
      "cell_type": "markdown",
      "source": [
        "# NN"
      ],
      "metadata": {
        "id": "MnNZ57ICZ2ts"
      }
    },
    {
      "cell_type": "code",
      "source": [
        "X_train.head(1)"
      ],
      "metadata": {
        "id": "bdT8q7gwjcl-"
      },
      "execution_count": null,
      "outputs": []
    },
    {
      "cell_type": "code",
      "source": [
        "# here we import everything you need to build the CNN\n",
        "import keras\n",
        "from keras.models import Sequential\n",
        "from keras.layers import Input, Dense, Flatten, Dropout\n",
        "from keras.callbacks import EarlyStopping"
      ],
      "metadata": {
        "id": "tPUDX8BXF3Pw"
      },
      "execution_count": null,
      "outputs": []
    },
    {
      "cell_type": "code",
      "source": [
        "def plot_history(history: keras.callbacks.History):\n",
        "  \"\"\"\n",
        "  plot the training and validation loss for each training epoch\n",
        "\n",
        "  history: a History object, output of the .fit method of a keras model\n",
        "  \"\"\"\n",
        "  n = len(history.history['loss'])\n",
        "  plt.plot(np.arange(n), history.history['loss'], label=\"training loss\")\n",
        "  plt.plot(np.arange(n), history.history['val_loss'], label=\"validation loss\")\n",
        "  plt.xticks(range(0, n + 1, 2))\n",
        "  plt.legend()\n",
        "  plt.show()"
      ],
      "metadata": {
        "id": "-uSn16Plpp5y"
      },
      "execution_count": null,
      "outputs": []
    },
    {
      "cell_type": "code",
      "source": [
        "X_train_ = X_train.astype('float32') \n",
        "X_valid = X_valid.astype('float32') \n",
        "y_train = keras.utils.to_categorical(y_train)\n",
        "y_valid = keras.utils.to_categorical(y_valid)\n",
        "\n",
        "print(\"train samples: \", X_train.shape[0])\n",
        "print(\"test samples: \", X_valid.shape[0])\n",
        "\n",
        "print(\"shape of one sample: \", X_train.head(1).shape)"
      ],
      "metadata": {
        "id": "QcCds_uxjtUy"
      },
      "execution_count": null,
      "outputs": []
    },
    {
      "cell_type": "code",
      "source": [
        "class_num = 8\n",
        "nn_model = Sequential()\n",
        "nn_model.add(Input(shape=(8)))\n",
        "#model.add(Input(shape=(X_train.head(1).shape)))\n",
        "nn_model.add(Dense(class_num * 25, use_bias=True, activation=\"relu\"))\n",
        "nn_model.add(Dense(class_num * 20, use_bias=True, activation= keras.activations.relu))\n",
        "nn_model.add(Dropout(rate=0.15))\n",
        "nn_model.add(Dense(class_num * 15, use_bias=True, activation=\"relu\"))\n",
        "nn_model.add(Dropout(rate=0.1))\n",
        "nn_model.add(Dense(class_num * 10, use_bias=True, activation=\"relu\"))\n",
        "nn_model.add(Dense(39, activation=keras.activations.softmax))\n",
        "\n",
        "nn_model.summary()"
      ],
      "metadata": {
        "id": "t561CLQWKFTz"
      },
      "execution_count": null,
      "outputs": []
    },
    {
      "cell_type": "code",
      "source": [
        "nn_model.compile(\n",
        "    loss=keras.losses.CategoricalCrossentropy(),\n",
        "    optimizer=keras.optimizers.Adamax(learning_rate=0.1),\n",
        "    metrics=[\"accuracy\"])\n",
        "\n",
        "early_stopping = EarlyStopping(\n",
        "    monitor=\"val_loss\",\n",
        "    mode=\"min\",\n",
        "    patience=10)\n",
        "\n",
        "# note that we pass the early_stopping object as a callback here\n",
        "history = nn_model.fit(x= X_train, y=y_train,\n",
        "  epochs=80,\n",
        "  batch_size=640S,\n",
        "  validation_split=.10,\n",
        "  callbacks=[early_stopping]\n",
        ")\n"
      ],
      "metadata": {
        "id": "Lm3_xWHcleWf"
      },
      "execution_count": null,
      "outputs": []
    },
    {
      "cell_type": "code",
      "source": [
        "plot_history(history)"
      ],
      "metadata": {
        "id": "tDCNjDxxGBBk"
      },
      "execution_count": null,
      "outputs": []
    },
    {
      "cell_type": "markdown",
      "source": [
        "#Plotting the Data"
      ],
      "metadata": {
        "id": "S0NZBTjHSKts"
      }
    },
    {
      "cell_type": "code",
      "source": [
        "train_data['Category'].value_counts().plot(kind='barh',figsize=(30, 15))"
      ],
      "metadata": {
        "id": "YJn-jh9WJ3TS"
      },
      "execution_count": null,
      "outputs": []
    },
    {
      "cell_type": "code",
      "source": [
        "plt.figure(figsize=(15,8))\n",
        "train_data['Hour'].value_counts().plot.pie(autopct='%1.1f%%')\n",
        "plt.title('Hour')"
      ],
      "metadata": {
        "id": "sbGPbnUqFvQy"
      },
      "execution_count": null,
      "outputs": []
    },
    {
      "cell_type": "code",
      "source": [
        "plt.figure(figsize=(15,8))\n",
        "train_data['DayOfWeek'].value_counts().plot.pie(autopct='%1.1f%%')\n",
        "plt.title('DayOfWeekay')"
      ],
      "metadata": {
        "id": "wjYykjsAFmNq"
      },
      "execution_count": null,
      "outputs": []
    },
    {
      "cell_type": "code",
      "source": [
        "plt.figure(figsize=(15,8))\n",
        "train_data['Year'].value_counts().plot.pie(autopct='%1.1f%%')\n",
        "plt.title('Year')"
      ],
      "metadata": {
        "id": "Mslj0BCkFWdq"
      },
      "execution_count": null,
      "outputs": []
    },
    {
      "cell_type": "code",
      "source": [
        "plt.figure(figsize=(15,8))\n",
        "train_data['PdDistrict'].value_counts().plot.pie(autopct='%1.1f%%')\n",
        "plt.title('PdDistrict')"
      ],
      "metadata": {
        "id": "gasEdyu9ow-I"
      },
      "execution_count": null,
      "outputs": []
    },
    {
      "cell_type": "code",
      "source": [
        "#train_data.groupby('Category')['Hour'].value_counts()\n",
        "bins_stuff = [2,3,4,5, 6,7,8,9, 10,11,12,13, 14,15,16,17, 18,19,20,21, 22,23,0,1]\n",
        "#grps = train_data.groupby(['Category',pd.cut(train_data.Hour,bins_stuff)])\n",
        "#grps.size().unstack()\n"
      ],
      "metadata": {
        "id": "Si-sWm-fOcWI"
      },
      "execution_count": null,
      "outputs": []
    },
    {
      "cell_type": "code",
      "source": [
        "#train_data['Category'].hist(by=train_data['Hour'],figsize=(200,100))\n",
        "train_data['Hour'] = pd.cut(train_data.Hour, bins = range(0,24),right=False)\n",
        "(train_data.groupby('Hour').Category.value_counts().unstack().plot.bar(width=1,stacked=True, figsize=(30,30)))"
      ],
      "metadata": {
        "id": "XKF7iNjAaOBU"
      },
      "execution_count": null,
      "outputs": []
    },
    {
      "cell_type": "code",
      "source": [
        "bins_stuff = [2003,2004,2005,2006,2007,2008,2009,2010,2011,2012,2013,2014,2015]\n",
        "grps = train_data.groupby(['Category',pd.cut(train_data.Year,bins_stuff)])\n",
        "grps.size().unstack()"
      ],
      "metadata": {
        "id": "0ks_CtpUdycj"
      },
      "execution_count": null,
      "outputs": []
    },
    {
      "cell_type": "code",
      "source": [
        "bins_stuff = [1,2,3,4,5,6,7]\n",
        "grps = train_data.groupby(['Category',pd.cut(train_data.Day,bins_stuff)])\n",
        "grps.size().unstack()"
      ],
      "metadata": {
        "id": "8I3YCfc-ZTlb"
      },
      "execution_count": null,
      "outputs": []
    },
    {
      "cell_type": "code",
      "source": [
        "m = fo.Map(location=[37.773972,-122.446747],zoom_start=13)\n",
        "fo.Marker(\n",
        "    location=[37.774599,-122.425892],\n",
        "    popup=\"Northern\",\n",
        "    icon=fo.Icon(color=\"darkgreen\"),\n",
        ").add_to(m)\n",
        "fo.Marker(\n",
        "    location=[37.771541,-122.438738],\n",
        "    popup=\"Park\",\n",
        "    icon=fo.Icon(color=\"lightgreen\"),\n",
        ").add_to(m)\n",
        "fo.Marker(\n",
        "    location=[37.714056,-122.459033],\n",
        "    popup=\"Taraval\",\n",
        "    icon=fo.Icon(color=\"gray\"),\n",
        ").add_to(m)\n",
        "fo.Marker(\n",
        "    location=[37.731948,-122.447364],\n",
        "    popup=\"Ingleside\",\n",
        "    icon=fo.Icon(color=\"pink\"),\n",
        ").add_to(m)\n",
        "fo.Marker(\n",
        "    location=[37.780266,-122.403390],\n",
        "    popup=\"Southern\",\n",
        "    icon=fo.Icon(color=\"darkblue\"),\n",
        ").add_to(m)\n",
        "fo.Marker(\n",
        "    location=[37.738212,-122.394926],\n",
        "    popup=\"Bayview\",\n",
        "    icon=fo.Icon(color=\"red\"),\n",
        ").add_to(m)\n",
        "fo.Marker(\n",
        "    location=[37.78393202772729,-122.412597377187],\n",
        "    popup=\"Tenderloin\",\n",
        "    icon=fo.Icon(color=\"black\"),\n",
        ").add_to(m)\n",
        "fo.Marker(\n",
        "    location=[37.7487740050495,-122.42257233421302],\n",
        "    popup=\"Mission\",\n",
        "    icon=fo.Icon(color=\"orange\"),\n",
        ").add_to(m)\n",
        "\n",
        "fo.Marker(\n",
        "    location=[37.789434763004\t,-122.406958660602],\n",
        "    popup=\"Central\",\n",
        "    icon=fo.Icon(color=\"purple\"),\n",
        ").add_to(m)\t\n",
        "fo.Marker(\n",
        "    location=[37.7725405391593\t,-122.466204667893],\n",
        "    popup=\"Richmond\",\n",
        "    icon=fo.Icon(color=\"lightblue\"),\n",
        ").add_to(m)\t\n",
        "\n",
        "m\n"
      ],
      "metadata": {
        "id": "HYhOTfFfqEH_"
      },
      "execution_count": null,
      "outputs": []
    },
    {
      "cell_type": "code",
      "source": [
        "# List key-value pairs for tags\n",
        "tags = {'building': True}   \n",
        "#buildings = ox.geometries_from_place(\"Piedmont, California, USA\", tags)\n",
        "#buildings = ox.geometries_from_point(center_point=point, tags=tags)\n",
        "#buildings.head()"
      ],
      "metadata": {
        "id": "PGV2ekaBXL34"
      },
      "execution_count": null,
      "outputs": []
    },
    {
      "cell_type": "code",
      "source": [
        "#point = (48.873446, 2.294255)\n",
        "#dist = 612\n",
        "#gdf = ox.geometries_from_point(point, tags, dist=dist)\n",
        "#gdf.head()"
      ],
      "metadata": {
        "id": "KK2uuJedG48I"
      },
      "execution_count": null,
      "outputs": []
    },
    {
      "cell_type": "markdown",
      "source": [
        "# svm"
      ],
      "metadata": {
        "id": "XNPMwbYiZtyB"
      }
    },
    {
      "cell_type": "code",
      "source": [
        "def plot_svc_decision_function(model, X, y):\n",
        "    \"\"\"\n",
        "    Plot the decision function for a 2D SVC\n",
        "\n",
        "    model: a fitted SVM model of type sklearn.svm.LinearSVC or sklearn.svm.SVC\n",
        "    X: a 2D numpy array of shape [n_samples, 2], containing data points to be classified\n",
        "    y: a 1D numpy array of shape [n_samples], containing the labels for the data points, labels should be 0 or 1\n",
        "    \"\"\"\n",
        "    plt.scatter(X[:, 0], X[:, 1], c=y, s=50, cmap='autumn')\n",
        "\n",
        "    ax = plt.gca()\n",
        "    xlim = ax.get_xlim()\n",
        "    ylim = ax.get_ylim()\n",
        "    \n",
        "    # create grid to evaluate model\n",
        "    x = np.linspace(xlim[0], xlim[1], 30)\n",
        "    y = np.linspace(ylim[0], ylim[1], 30)\n",
        "    Y, X = np.meshgrid(y, x)\n",
        "    xy = np.vstack([X.ravel(), Y.ravel()]).T\n",
        "    P = model.decision_function(xy).reshape(X.shape)\n",
        "    \n",
        "    # plot decision boundary and margins\n",
        "    ax.contour(X, Y, P, colors='k',\n",
        "               levels=[-1, 0, 1], alpha=0.5,\n",
        "               linestyles=['--', '-', '--'])\n",
        "    \n",
        "    ax.set_xlim(xlim)\n",
        "    ax.set_ylim(ylim)"
      ],
      "metadata": {
        "id": "YYn3TRQwejD4"
      },
      "execution_count": null,
      "outputs": []
    },
    {
      "cell_type": "code",
      "source": [
        "from sklearn.svm import LinearSVC\n",
        "model = LinearSVC() # initialize the model\n",
        "model.fit(X_train,y_train) # fit the model = learn the decision boundaries\n",
        "\n",
        "plot_svc_decision_function(model, X_train,y_train)"
      ],
      "metadata": {
        "id": "8SscNcSeFM-J"
      },
      "execution_count": null,
      "outputs": []
    }
  ]
}